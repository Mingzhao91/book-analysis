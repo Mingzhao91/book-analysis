{
 "cells": [
  {
   "cell_type": "markdown",
   "id": "c0ea766d-b6e9-4282-bf34-d8923854d29f",
   "metadata": {},
   "source": [
    "## Load the book"
   ]
  },
  {
   "cell_type": "code",
   "execution_count": 2,
   "id": "943d24f0-4368-4923-9f20-c5a44a095c30",
   "metadata": {},
   "outputs": [],
   "source": [
    "with open(\"miracle_in_the_andes.txt\", \"r\") as file:\n",
    "    book = file.read()"
   ]
  },
  {
   "cell_type": "markdown",
   "id": "03d17f6e-f2e4-4c29-8c71-17646c037e54",
   "metadata": {},
   "source": [
    "# The most used words (non-articles)"
   ]
  },
  {
   "cell_type": "code",
   "execution_count": 4,
   "id": "e52b7306-928b-4d79-afbb-6991bddcb9ab",
   "metadata": {},
   "outputs": [],
   "source": [
    "import re"
   ]
  },
  {
   "cell_type": "code",
   "execution_count": 6,
   "id": "0a934af6-96dd-4d77-999a-f1462df68922",
   "metadata": {},
   "outputs": [
    {
     "data": {
      "text/plain": [
       "['Chapter', 'Before', 'IT', 'WAS', 'FRIDAY']"
      ]
     },
     "execution_count": 6,
     "metadata": {},
     "output_type": "execute_result"
    }
   ],
   "source": [
    "pattern = re.compile(\"[a-zA-Z]+\")\n",
    "findings = re.findall(pattern, book)\n",
    "findings[:5]"
   ]
  },
  {
   "cell_type": "code",
   "execution_count": 9,
   "id": "f8a53cb0-5dbd-4768-a0f3-d24f852a7217",
   "metadata": {},
   "outputs": [],
   "source": [
    "d = {}\n",
    "for word in findings:\n",
    "    if word in d.keys():\n",
    "        d[word] = d[word] + 1\n",
    "    else:\n",
    "        d[word] = 1"
   ]
  },
  {
   "cell_type": "code",
   "execution_count": 12,
   "id": "f0dd8470-8528-4093-8535-4b61dd948715",
   "metadata": {},
   "outputs": [],
   "source": [
    "d_list = [(value, key) for (key, value) in d.items()]\n",
    "sorted(d_list, reserve=True)"
   ]
  },
  {
   "cell_type": "code",
   "execution_count": null,
   "id": "2f14f4c0-033a-4545-8d48-b2b252cccf44",
   "metadata": {},
   "outputs": [],
   "source": []
  },
  {
   "cell_type": "code",
   "execution_count": null,
   "id": "569e6b1a-8b42-4eb9-8d36-805f4f5459c7",
   "metadata": {},
   "outputs": [],
   "source": []
  }
 ],
 "metadata": {
  "kernelspec": {
   "display_name": "Python 3 (ipykernel)",
   "language": "python",
   "name": "python3"
  },
  "language_info": {
   "codemirror_mode": {
    "name": "ipython",
    "version": 3
   },
   "file_extension": ".py",
   "mimetype": "text/x-python",
   "name": "python",
   "nbconvert_exporter": "python",
   "pygments_lexer": "ipython3",
   "version": "3.12.3"
  }
 },
 "nbformat": 4,
 "nbformat_minor": 5
}
